{
 "cells": [
  {
   "cell_type": "markdown",
   "metadata": {},
   "source": [
    "According to Murphy we can write a semi-parametric GP as \n",
    "$$f(x) = g(x) + h(x)$$\n",
    "where $$g(x|\\theta)$$ is some parametric function and \n",
    "$$h(x) \\sim GP(,)$$\n",
    "us a Gaussian process on the residuals"
   ]
  },
  {
   "cell_type": "code",
   "execution_count": 9,
   "metadata": {},
   "outputs": [
    {
     "name": "stdout",
     "output_type": "stream",
     "text": [
      "[ 0.    0.01]\n",
      "[  9.96960748e+00   1.02937790e+00   1.01462732e-03]\n",
      "[  9.91283294  24.31484756  10.42343931  24.38000234  13.63280292\n",
      "  19.0155397    9.04075687  15.20946616  24.21750903  18.32254182\n",
      "  10.23305769   9.02729803  11.48946793  13.84110953  24.93989228\n",
      "  20.29131001  13.53075475   9.02076952   9.99851694  16.8979455\n",
      "  19.43692464  22.05466558  23.72287277   9.97091848  15.81307189\n",
      "   9.01525236  24.78464638  15.3198985   18.3646078    9.81333868\n",
      "  11.22689531  16.90561536  23.80446299  24.85062453  21.38504366\n",
      "  23.02117758   9.00070814   9.49969745  18.21977448  24.40071217\n",
      "  24.47286561   9.3664882    9.42648769  18.68112162  11.81074739\n",
      "  24.27001864  22.71878822  19.34127119  12.05229965  17.41758295\n",
      "  14.0734261   21.24245213  22.82602594  17.5894858   10.61877482\n",
      "  19.26351243   9.00370686  11.17605017  24.9996361   24.93166716\n",
      "  11.78946906   9.01623411  12.68548938  18.33283595  19.06951229\n",
      "  24.60147474  24.19584784  10.31440416  21.06948944  14.03623855\n",
      "  20.2016471   17.60109565  11.28139534   9.05441949  21.97796911\n",
      "  13.65435369  16.23664862  24.99018164  24.18248496  10.45060578\n",
      "  12.00684948  12.84491848  15.28582944  19.57439722  21.47157229\n",
      "  24.83686324   9.1780221    9.0395929   24.99871856  21.64299855\n",
      "  17.19168276  13.60875068  12.12865641   9.18088789  16.33421023\n",
      "  22.99684248  24.16529123  17.46024367  15.89728318  16.29663958]\n"
     ]
    }
   ],
   "source": [
    "import numpy as np\n",
    "import pylab as pl\n",
    "import numpy as np\n",
    "from scipy.integrate import odeint\n",
    "import matplotlib.pyplot as plt\n",
    "\n",
    "\n",
    "def sir_step(S0,I0,R0):  \n",
    "    beta, gamma = 0.2, 1./10 \n",
    "    # A grid of time points (in days)\n",
    "    t = np.linspace(0, .01, 2)\n",
    "    print (t)\n",
    "    # The SIR model differential equations.\n",
    "    def deriv(y, t,beta, gamma):\n",
    "        S, I, R = y\n",
    "        dSdt = -beta*(1+np.cos(2*np.pi/6)) * S * I \n",
    "        dIdt = beta*(1+np.cos(2*np.pi/6))  * S * I  - gamma * I\n",
    "        dRdt = gamma * I\n",
    "        return dSdt, dIdt, dRdt\n",
    "    # Initial conditions vector\n",
    "    y0 = S0, I0, R0\n",
    "    # Integrate the SIR equations over the time grid, t.\n",
    "    ret = odeint(deriv, y0, t, args=( beta, gamma))\n",
    "    S, I, R = ret.T\n",
    "    ret_ar = np.array([S[-1],I[-1],R[-1]]).reshape((-1))\n",
    "    return ret_ar\n",
    "\n",
    "print sir_step(10,1,0)\n",
    "\n",
    "time_series = np.power(np.sin(np.arange(0,100) + np.random.normal(0,1,100))+4,2)\n",
    "\n",
    "print (time_series)\n"
   ]
  },
  {
   "cell_type": "code",
   "execution_count": null,
   "metadata": {},
   "outputs": [],
   "source": []
  }
 ],
 "metadata": {
  "kernelspec": {
   "display_name": "Python 3",
   "language": "python",
   "name": "python3"
  },
  "language_info": {
   "codemirror_mode": {
    "name": "ipython",
    "version": 2
   },
   "file_extension": ".py",
   "mimetype": "text/x-python",
   "name": "python",
   "nbconvert_exporter": "python",
   "pygments_lexer": "ipython2",
   "version": "2.7.12"
  }
 },
 "nbformat": 4,
 "nbformat_minor": 2
}
