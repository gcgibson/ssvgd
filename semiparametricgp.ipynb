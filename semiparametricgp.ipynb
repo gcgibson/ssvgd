{
 "cells": [
  {
   "cell_type": "markdown",
   "metadata": {},
   "source": [
    "According to Murphy we can write a semi-parametric GP as \n",
    "$$f(x) = g(x) + h(x)$$\n",
    "where $$g(x|\\theta)$$ is some parametric function and \n",
    "$$h(x) \\sim GP(,)$$\n",
    "us a Gaussian process on the residuals"
   ]
  },
  {
   "cell_type": "code",
   "execution_count": 7,
   "metadata": {},
   "outputs": [
    {
     "name": "stdout",
     "output_type": "stream",
     "text": [
      "[ 0.    0.01]\n",
      "[  9.96960748e+00   1.02937790e+00   1.01462732e-03]\n"
     ]
    }
   ],
   "source": [
    "import numpy as np\n",
    "import pylab as pl\n",
    "import numpy as np\n",
    "from scipy.integrate import odeint\n",
    "import matplotlib.pyplot as plt\n",
    "\n",
    "\n",
    "def sir_step(S0,I0,R0):  \n",
    "    beta, gamma = 0.2, 1./10 \n",
    "    # A grid of time points (in days)\n",
    "    t = np.linspace(0, .01, 2)\n",
    "    print (t)\n",
    "    # The SIR model differential equations.\n",
    "    def deriv(y, t,beta, gamma):\n",
    "        S, I, R = y\n",
    "        dSdt = -beta*(1+np.cos(2*np.pi/6)) * S * I \n",
    "        dIdt = beta*(1+np.cos(2*np.pi/6))  * S * I  - gamma * I\n",
    "        dRdt = gamma * I\n",
    "        return dSdt, dIdt, dRdt\n",
    "    # Initial conditions vector\n",
    "    y0 = S0, I0, R0\n",
    "    # Integrate the SIR equations over the time grid, t.\n",
    "    ret = odeint(deriv, y0, t, args=( beta, gamma))\n",
    "    S, I, R = ret.T\n",
    "    ret_ar = np.array([S[-1],I[-1],R[-1]]).reshape((-1))\n",
    "    return ret_ar\n",
    "\n",
    "print sir_step(10,1,0)\n",
    "\n",
    "time_series = np.arange(0,100) + np.random.normal(0,1,100)\n",
    "\n",
    "\n"
   ]
  },
  {
   "cell_type": "code",
   "execution_count": null,
   "metadata": {},
   "outputs": [],
   "source": []
  }
 ],
 "metadata": {
  "kernelspec": {
   "display_name": "Python 3",
   "language": "python",
   "name": "python3"
  },
  "language_info": {
   "codemirror_mode": {
    "name": "ipython",
    "version": 2
   },
   "file_extension": ".py",
   "mimetype": "text/x-python",
   "name": "python",
   "nbconvert_exporter": "python",
   "pygments_lexer": "ipython2",
   "version": "2.7.12"
  }
 },
 "nbformat": 4,
 "nbformat_minor": 2
}
