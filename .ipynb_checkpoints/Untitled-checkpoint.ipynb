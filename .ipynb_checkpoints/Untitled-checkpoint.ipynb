{
 "cells": [
  {
   "cell_type": "markdown",
   "metadata": {},
   "source": [
    "### Kalman Filter SIR "
   ]
  },
  {
   "cell_type": "markdown",
   "metadata": {},
   "source": [
    "#### Transition Density"
   ]
  },
  {
   "cell_type": "markdown",
   "metadata": {},
   "source": [
    "$$(S_t',I_t',R_t') \\sim MVN(RK4(S_{t-1},I_{t-1},R_{t-1})),\\Sigma)$$"
   ]
  },
  {
   "cell_type": "markdown",
   "metadata": {},
   "source": [
    "#### Observation Density\n"
   ]
  },
  {
   "cell_type": "markdown",
   "metadata": {},
   "source": [
    "$$I_t = \\frac{e^{S_t'}}{e^{S_t'} + e^{I_t'} + e^{R_t'}}$$"
   ]
  },
  {
   "cell_type": "markdown",
   "metadata": {},
   "source": [
    "$$Y_t \\sim N(N_t*I_t,\\sigma^2)$$"
   ]
  },
  {
   "cell_type": "markdown",
   "metadata": {},
   "source": [
    "where $N_t$ is the population at time $t$"
   ]
  },
  {
   "cell_type": "code",
   "execution_count": 48,
   "metadata": {},
   "outputs": [
    {
     "name": "stdout",
     "output_type": "stream",
     "text": [
      "(100, 3)\n"
     ]
    },
    {
     "data": {
      "image/png": "[encoded data removed]",
      "text/plain": [
       "<matplotlib.figure.Figure at 0x7f24b79f99d0>"
      ]
     },
     "metadata": {},
     "output_type": "display_data"
    },
    {
     "data": {
      "text/plain": [
       "<ggplot: (8737229853989)>"
      ]
     },
     "execution_count": 48,
     "metadata": {},
     "output_type": "execute_result"
    }
   ],
   "source": [
    "import numpy as np\n",
    "import pylab as pl\n",
    "from pykalman import UnscentedKalmanFilter\n",
    "import numpy as np\n",
    "from scipy.integrate import odeint\n",
    "import matplotlib.pyplot as plt\n",
    "\n",
    "\n",
    "# initialize parameters\n",
    "def transition_function(state, noise):\n",
    "    # Total population, N.\n",
    "    N = 1000\n",
    "    # Initial number of infected and recovered individuals, I0 and R0.\n",
    "    S0, I0, R0 = state[0],state[1], state[2]\n",
    "    # Everyone else, S0, is susceptible to infection initially.\n",
    "    # Contact rate, beta, and mean recovery rate, gamma, (in 1/days).\n",
    "    beta, gamma = 0.2, 1./10 \n",
    "    # A grid of time points (in days)\n",
    "    t = np.linspace(0, 1, 1)\n",
    "\n",
    "    # The SIR model differential equations.\n",
    "    def deriv(y, t, N, beta, gamma):\n",
    "        S, I, R = y\n",
    "        dSdt = -beta * S * I \n",
    "        dIdt = beta * S * I  - gamma * I\n",
    "        dRdt = gamma * I\n",
    "        return dSdt, dIdt, dRdt\n",
    "\n",
    "    # Initial conditions vector\n",
    "    y0 = S0, I0, R0\n",
    "    # Integrate the SIR equations over the time grid, t.\n",
    "    ret = odeint(deriv, y0, t, args=(N, beta, gamma))\n",
    "    S, I, R = ret.T\n",
    "    S = S + noise[0]\n",
    "    I = I + noise[1]\n",
    "    R = R + noise[2]\n",
    "    ret_ar = np.array([S,I,R]).reshape((-1))\n",
    "    return ret_ar\n",
    "\n",
    "\n",
    "def observation_function(state, noise):\n",
    "    S_ , I_ , R_ = state[0], state[1], state[2]\n",
    "    I = np.exp(I_)/(np.exp(S_) + np.exp(I_) +np.exp(R_))\n",
    "    return  10000*I + noise[0]\n",
    "\n",
    "transition_covariance = np.eye(3)\n",
    "random_state = np.random.RandomState(0)\n",
    "observation_covariance = 1#np.eye(3) #+ random_state.randn(3, 3) \n",
    "initial_state_mean = [0, 0, 0]\n",
    "initial_state_covariance = np.eye(3)\n",
    "\n",
    "# sample from model\n",
    "kf = UnscentedKalmanFilter(\n",
    "    transition_function, observation_function,\n",
    "    transition_covariance, observation_covariance,\n",
    "    initial_state_mean, initial_state_covariance,\n",
    "    random_state=random_state\n",
    ")\n",
    "#states, observations = kf.sample(100, initial_state_mean)\n",
    "# estimate state with filtering and smoothing\n",
    "time_series = np.arange(0,100) + np.random.normal(0,1,100)\n",
    "filtered_state_estimates = kf.filter(time_series)[0]\n",
    "smoothed_state_estimates = kf.smooth(time_series)[0]\n",
    "\n",
    "\n",
    "def states_to_observations(states):\n",
    "    expected_obs = []\n",
    "    for state in states:\n",
    "        S_ , I_ , R_ = state[0], state[1], state[2]\n",
    "        I = np.exp(I_)/(np.exp(S_) + np.exp(I_) +np.exp(R_))\n",
    "        expected_obs.append(10000*I)\n",
    "    return expected_obs\n",
    "\n",
    "\n",
    "# draw estimates\n",
    "\n",
    "#lines_true = pl.plot(states_to_observations(filtered_state_estimates), color='b')\n",
    "\n",
    "from plotnine import *\n",
    "from plotnine.data import *\n",
    "import pandas as pd\n",
    "\n",
    "data = [range(100),time_series.tolist(),states_to_observations(filtered_state_estimates)]\n",
    "data = np.hstack((np.arange(100).reshape((-1,1)),time_series.reshape((-1,1)),np.array(states_to_observations(filtered_state_estimates)).reshape((-1,1))))\n",
    "print (data.shape)\n",
    "df = pd.DataFrame(data, columns=['t','y','yhat'])\n",
    "\n",
    "df = pd.melt(df, id_vars=['t'], value_vars=['y', 'yhat']) \n",
    "p = ggplot(df, aes(x='t', y='value', color='variable'))\n",
    "(p + geom_line()\n",
    "   + scale_color_manual(['r', 'b'])\n",
    ")\n"
   ]
  },
  {
   "cell_type": "code",
   "execution_count": null,
   "metadata": {},
   "outputs": [],
   "source": []
  }
 ],
 "metadata": {
  "kernelspec": {
   "display_name": "Python 3",
   "language": "python",
   "name": "python3"
  },
  "language_info": {
   "codemirror_mode": {
    "name": "ipython",
    "version": 2
   },
   "file_extension": ".py",
   "mimetype": "text/x-python",
   "name": "python",
   "nbconvert_exporter": "python",
   "pygments_lexer": "ipython2",
   "version": "2.7.12"
  }
 },
 "nbformat": 4,
 "nbformat_minor": 2
}
