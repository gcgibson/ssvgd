{
 "cells": [
  {
   "cell_type": "markdown",
   "metadata": {},
   "source": [
    "According to Murphy we can write a semi-parametric GP as \n",
    "$$f(x) = g(x) + h(x)$$\n",
    "where $$g(x|\\theta)$$ is some parametric function and \n",
    "$$h(x) \\sim GP(,)$$\n",
    "us a Gaussian process on the residuals"
   ]
  },
  {
   "cell_type": "code",
   "execution_count": 3,
   "metadata": {},
   "outputs": [
    {
     "data": {
      "image/png": "[encoded data removed]",
      "text/plain": [
       "<matplotlib.figure.Figure at 0x7fb66d91d110>"
      ]
     },
     "metadata": {},
     "output_type": "display_data"
    }
   ],
   "source": [
    "import numpy as np\n",
    "import pylab as pl\n",
    "import numpy as np\n",
    "from scipy.integrate import odeint\n",
    "import matplotlib.pyplot as plt\n",
    "\n",
    "seasonality = 20\n",
    "\n",
    "def seasonal_forcing(t):\n",
    "    return (1+np.cos(t*2*np.pi/seasonality))\n",
    "\n",
    "\n",
    "def sir_step(S0,I0,R0,num_steps):  \n",
    "    beta, gamma = .2, 1./10 \n",
    "    # A grid of time points (in days)\n",
    "    t = np.linspace(0, num_steps, num_steps )\n",
    "    # The SIR model differential equations.\n",
    "    def deriv(y, t,beta, gamma):\n",
    "        S, I, R = y\n",
    "        dSdt = -beta * seasonal_forcing(t)*S * I \n",
    "        dIdt = beta  *seasonal_forcing(t)* S * I  - gamma * I\n",
    "        dRdt = gamma * I\n",
    "        return dSdt, dIdt, dRdt\n",
    "    # Initial conditions vector\n",
    "    y0 = S0, I0, R0\n",
    "    # Integrate the SIR equations over the time grid, t.\n",
    "    ret = odeint(deriv, y0, t, args=( beta, gamma))\n",
    "    S, I, R = ret.T\n",
    "    return S,I,R\n",
    "\n",
    "time_series = np.power(np.sin(np.arange(0,100) + np.random.normal(0,1,100))+4,2)\n",
    "\n",
    "S,I,R =  sir_step(.9,.1,0, len(time_series))\n",
    "plt.plot(I)\n",
    "plt.show()\n",
    "\n"
   ]
  },
  {
   "cell_type": "code",
   "execution_count": 11,
   "metadata": {},
   "outputs": [
    {
     "name": "stderr",
     "output_type": "stream",
     "text": [
      "/usr/local/lib/python2.7/dist-packages/ipykernel_launcher.py:16: DeprecationWarning: object of type <type 'numpy.ndarray'> cannot be safely interpreted as an integer.\n",
      "  app.launch_new_instance()\n"
     ]
    },
    {
     "name": "stdout",
     "output_type": "stream",
     "text": [
      "[[0.10000000000000001, 0.15933569492709976, 0.18884245812618772, 0.21223422962670313, 0.22610826311531065], [0.15933569492709976, 0.21223422962670313, 0.22930753821556146, 0.20950377250704139, 0.17436670671802676], [0.18884245812618772, 0.22930753821556146, 0.19230492694284529, 0.14511185902322826, 0.13243849548931946], [0.21223422962670313, 0.20950377250704139, 0.14511185902322826, 0.13750518456888747, 0.19322648385094507], [0.22610826311531065, 0.17436670671802676, 0.13243849548931946, 0.19322648385094507, 0.22307056595625951]]\n"
     ]
    },
    {
     "data": {
      "image/png": "[encoded data removed]",
      "text/plain": [
       "<matplotlib.figure.Figure at 0x7fb6680266d0>"
      ]
     },
     "metadata": {},
     "output_type": "display_data"
    }
   ],
   "source": [
    "import numpy as np\n",
    "import matplotlib.pyplot as pl\n",
    "\n",
    "# Test data\n",
    "n = 5\n",
    "Xtest = np.linspace(1, 10, n).reshape(-1,1)\n",
    "\n",
    "# Define the kernel function\n",
    "def kernel(a, b, param):\n",
    "    ret_ar = []\n",
    "    sqdist = a.transpose()*b\n",
    "    for a_ in a:\n",
    "        tmp = []\n",
    "        for b_ in b:\n",
    "            S,I,R = sir_step(.9,.1,0,a_*b_)\n",
    "            tmp.append(I[-1])\n",
    "        ret_ar.append(tmp)\n",
    "    return ret_ar\n",
    "\n",
    "param = 0.1\n",
    "K_ss = kernel(Xtest, Xtest, param)\n",
    "\n",
    "# Get cholesky decomposition (square root) of the\n",
    "# covariance matrix\n",
    "print (K_ss)\n",
    "L = np.linalg.cholesky(K_ss + np.eye(n))\n",
    "# Sample 3 sets of standard normals for our test points,\n",
    "# multiply them by the square root of the covariance matrix\n",
    "f_prior = np.dot(L, np.random.normal(size=(n,3)))\n",
    "\n",
    "# Now let's plot the 3 sampled functions.\n",
    "pl.plot(Xtest, f_prior)\n",
    "pl.axis([0, 10, -3, 3])\n",
    "pl.title('Three samples from the GP prior')\n",
    "pl.show()"
   ]
  },
  {
   "cell_type": "code",
   "execution_count": 64,
   "metadata": {},
   "outputs": [
    {
     "data": {
      "text/plain": [
       "<paramz.optimization.optimization.opt_lbfgsb at 0x7ff9216a93d0>"
      ]
     },
     "execution_count": 64,
     "metadata": {},
     "output_type": "execute_result"
    }
   ],
   "source": [
    "import GPy\n",
    "\n",
    "m = GPy.models.GPRegression(np.arange(0,100).reshape((-1,1)), time_series.reshape((-1,1)))\n",
    "\n",
    "    # set the lengthscale to be something sensible (defaults to 1)\n",
    "m.kern.lengthscale = 10.\n",
    "\n",
    "m.optimize('bfgs', max_iters=200)"
   ]
  },
  {
   "cell_type": "code",
   "execution_count": null,
   "metadata": {},
   "outputs": [],
   "source": []
  }
 ],
 "metadata": {
  "kernelspec": {
   "display_name": "Python 3",
   "language": "python",
   "name": "python3"
  },
  "language_info": {
   "codemirror_mode": {
    "name": "ipython",
    "version": 2
   },
   "file_extension": ".py",
   "mimetype": "text/x-python",
   "name": "python",
   "nbconvert_exporter": "python",
   "pygments_lexer": "ipython2",
   "version": "2.7.12"
  }
 },
 "nbformat": 4,
 "nbformat_minor": 2
}
